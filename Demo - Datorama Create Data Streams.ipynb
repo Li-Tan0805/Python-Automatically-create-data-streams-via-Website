{
 "cells": [
  {
   "cell_type": "code",
   "execution_count": 11,
   "metadata": {},
   "outputs": [
    {
     "name": "stdout",
     "output_type": "stream",
     "text": [
      "Requirement already satisfied: splinter in c:\\software\\anaconda\\lib\\site-packages (0.11.0)\n",
      "Requirement already satisfied: six in c:\\software\\anaconda\\lib\\site-packages (from splinter) (1.12.0)\n",
      "Requirement already satisfied: selenium>=3.141.0 in c:\\software\\anaconda\\lib\\site-packages (from splinter) (3.141.0)\n",
      "Requirement already satisfied: urllib3 in c:\\software\\anaconda\\lib\\site-packages (from selenium>=3.141.0->splinter) (1.24.1)\n"
     ]
    }
   ],
   "source": [
    "# Uncomment below if you never install splinter in your computer \n",
    "# !pip install splinter"
   ]
  },
  {
   "cell_type": "code",
   "execution_count": 4,
   "metadata": {
    "scrolled": true
   },
   "outputs": [],
   "source": [
    "def Site_Served_Stream_Create(publisher_name,username,password):\n",
    "    browser = Browser('firefox')\n",
    "    browser.visit('https://platform.datorama.com/login')\n",
    "    browser.find_by_css('.dato-input').first.fill(username)\n",
    "    browser.find_by_css('.dato-input')[1].fill(password)\n",
    "    browser.find_by_css('.mt-35').first.click()\n",
    "    while len(browser.find_by_css('.dato-icon-connect-01.icon-lg.ng-star-inserted')) == 0:\n",
    "        time.sleep(5)\n",
    "    browser.find_by_css('.dato-icon-connect-01.icon-lg.ng-star-inserted').first.click()\n",
    "    time.sleep(5)\n",
    "    stream_name = publisher_name\n",
    "    with browser.get_iframe(0) as iframe:\n",
    "        iframe.find_by_css('.k-button.k-button-icontext.da-toolbar-button').first.click()\n",
    "        time.sleep(5)\n",
    "        iframe.find_by_css('.source-box.tc-source-box.box-background').click()\n",
    "        time.sleep(3)\n",
    "        iframe.find_by_css('.txtSourceName.set-input-text.normal-input').first.fill(stream_name)\n",
    "        time.sleep(3)\n",
    "        iframe.find_by_css('.ui-multiselect-selected-container').first.click()\n",
    "        time.sleep(3)\n",
    "        iframe.find_by_css('.lnkShowAdvancedDSOptions').first.click()\n",
    "        time.sleep(3)\n",
    "        iframe.find_by_css('.blank-button.expand-collapse-button.ignoreDisable.da-icon-expand').first.click()\n",
    "        time.sleep(3)\n",
    "        iframe.find_by_css('.trTemplate').first.click()\n",
    "        time.sleep(1)\n",
    "        iframe.find_by_css('div[data-value =\"36979\"]').first.click()\n",
    "        time.sleep(1)\n",
    "        iframe.find_by_css('.blue-button.next').first.click()\n",
    "        time.sleep(5)\n",
    "        iframe.find_by_css('.blank-button.cancel-mapping').first.click()\n",
    "        time.sleep(3)\n",
    "    browser.quit()"
   ]
  },
  {
   "cell_type": "code",
   "execution_count": 11,
   "metadata": {},
   "outputs": [],
   "source": [
    "from splinter import Browser\n",
    "import pandas as pd\n",
    "import os\n",
    "import time\n",
    "\n",
    "# change the directory below where you store your login info\n",
    "# This csv contains two columns: 'Username' and 'password'\n",
    "\n",
    "os.chdir(\"C:/File/Datorama Login/\")\n",
    "login_info = pd.read_csv('DR login.csv')\n",
    "username = login_info['Username']\n",
    "password = login_info['Password']"
   ]
  },
  {
   "cell_type": "code",
   "execution_count": 12,
   "metadata": {},
   "outputs": [],
   "source": [
    "#publishers = ['Walmart.com','linqia','First Media']\n",
    "#publishers = ['linqia','First Media']\n",
    "publishers = pd.read_csv('publisher.csv')"
   ]
  },
  {
   "cell_type": "code",
   "execution_count": null,
   "metadata": {},
   "outputs": [],
   "source": [
    "for each_publisher in publishers['Publisher']:\n",
    "    publisher_name = 'Clorox|Site Served|'+ each_publisher +'|All Advertisers'\n",
    "    Site_Served_Stream_Create(publisher_name,username,password)\n",
    "    print (each_publisher+' done!')"
   ]
  }
 ],
 "metadata": {
  "kernelspec": {
   "display_name": "Python 3",
   "language": "python",
   "name": "python3"
  },
  "language_info": {
   "codemirror_mode": {
    "name": "ipython",
    "version": 3
   },
   "file_extension": ".py",
   "mimetype": "text/x-python",
   "name": "python",
   "nbconvert_exporter": "python",
   "pygments_lexer": "ipython3",
   "version": "3.6.5"
  }
 },
 "nbformat": 4,
 "nbformat_minor": 2
}
